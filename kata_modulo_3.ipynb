{
 "cells": [
  {
   "cell_type": "markdown",
   "metadata": {},
   "source": [
    "# Ejercicio 1"
   ]
  },
  {
   "cell_type": "code",
   "execution_count": 3,
   "metadata": {},
   "outputs": [],
   "source": [
    "vel_asteroide = 49\n",
    "\n",
    "if vel_asteroide > 25:\n",
    "    print(\"¡Alerta! ¡Un asteroide se acerca a velocidades peligrosas!\")\n",
    "elif vel_asteroide == 25:\n",
    "    print(\"Posible advertencia.\")\n",
    "else:\n",
    "    print(\"¡Sigue con tu día!\")"
   ]
  },
  {
   "cell_type": "markdown",
   "metadata": {},
   "source": [
    "# Ejercicio 2"
   ]
  },
  {
   "cell_type": "code",
   "execution_count": null,
   "metadata": {},
   "outputs": [],
   "source": [
    "vel_asteroide = 19\n",
    "\n",
    "if vel_asteroide >= 20:\n",
    "    print(\"¡Rapido ve a ver el cielo!, ¡Hay una luz mágica! \")\n",
    "else:\n",
    "    print(\"Se acerca un asteroide va ser dificil verlo\")"
   ]
  },
  {
   "cell_type": "markdown",
   "metadata": {},
   "source": [
    "# Ejercicio 3"
   ]
  },
  {
   "cell_type": "code",
   "execution_count": 8,
   "metadata": {},
   "outputs": [
    {
     "name": "stdout",
     "output_type": "stream",
     "text": [
      "Se acerca un asteroide va ser dificil verlo\n"
     ]
    }
   ],
   "source": [
    "vel_asteroide = 19\n",
    "tam_asteroide = 3\n",
    "\n",
    "if vel_asteroide >= 25 and tam_asteroide >= 25:\n",
    "    print(\"¡Alerta, un asteroide golpeara a la tierra y va causar mucho daño!\")\n",
    "elif vel_asteroide >= 20:\n",
    "    print(\"¡Rapido ve a ver el cielo!, ¡Hay una luz mágica! \")\n",
    "elif tam_asteroide < 25:\n",
    "    print(\"Se acerca un asteroide va ser dificil verlo\")\n",
    "else:\n",
    "    print('Nada que ver aquí :)')\n"
   ]
  }
 ],
 "metadata": {
  "interpreter": {
   "hash": "af8cfec603fca3a3ed99f9ea9e8fc3de118148c54b4fd9a88629e4b040395b77"
  },
  "kernelspec": {
   "display_name": "Python 3.10.2 64-bit",
   "language": "python",
   "name": "python3"
  },
  "language_info": {
   "codemirror_mode": {
    "name": "ipython",
    "version": 3
   },
   "file_extension": ".py",
   "mimetype": "text/x-python",
   "name": "python",
   "nbconvert_exporter": "python",
   "pygments_lexer": "ipython3",
   "version": "3.10.2"
  },
  "orig_nbformat": 4
 },
 "nbformat": 4,
 "nbformat_minor": 2
}
