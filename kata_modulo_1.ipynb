{
 "cells": [
  {
   "cell_type": "markdown",
   "metadata": {},
   "source": [
    "# Primer programa (Fecha)"
   ]
  },
  {
   "cell_type": "code",
   "execution_count": 4,
   "metadata": {},
   "outputs": [
    {
     "name": "stdout",
     "output_type": "stream",
     "text": [
      "Fecha de hoy: 2022-02-06\n"
     ]
    }
   ],
   "source": [
    "from datetime import date\n",
    "print(\"Fecha de hoy: \" + str(date.today()))"
   ]
  },
  {
   "cell_type": "markdown",
   "metadata": {},
   "source": [
    "## convertidor de unidades"
   ]
  },
  {
   "cell_type": "code",
   "execution_count": 8,
   "metadata": {},
   "outputs": [
    {
     "name": "stdout",
     "output_type": "stream",
     "text": [
      "11 parsecs, son: 35.877159999999996 anios luz\n"
     ]
    }
   ],
   "source": [
    "parsec = 11\n",
    "anios_luz = 3.26156\n",
    "anios_luz *= parsec\n",
    "\n",
    "print(str(parsec) + \" parsecs, son: \" + str(anios_luz) + \" anios luz\")"
   ]
  }
 ],
 "metadata": {
  "interpreter": {
   "hash": "40eea49dd26fc9c81418bd437f4fe6cdd56add00dfaba1c6354d20707844a2a5"
  },
  "kernelspec": {
   "display_name": "Python 3.9.7 ('desarrollo4')",
   "language": "python",
   "name": "python3"
  },
  "language_info": {
   "codemirror_mode": {
    "name": "ipython",
    "version": 3
   },
   "file_extension": ".py",
   "mimetype": "text/x-python",
   "name": "python",
   "nbconvert_exporter": "python",
   "pygments_lexer": "ipython3",
   "version": "3.10.2"
  },
  "orig_nbformat": 4
 },
 "nbformat": 4,
 "nbformat_minor": 2
}
