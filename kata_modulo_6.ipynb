{
 "cells": [
  {
   "cell_type": "markdown",
   "metadata": {},
   "source": [
    "# Ejercicio1: Crear y usar listas de Python"
   ]
  },
  {
   "cell_type": "code",
   "execution_count": 1,
   "metadata": {},
   "outputs": [
    {
     "name": "stdout",
     "output_type": "stream",
     "text": [
      "Hay 8 planetas en el sistema solar\n",
      "9 Ultimo elemento de la lista: Pluto\n"
     ]
    }
   ],
   "source": [
    "# Creamos la lista planets y mostramos el numero de planetas\n",
    "planets = ['Mercury', 'Venus', 'Earth', 'Mars', 'Jupiter', 'Saturn', 'Uranus', 'Neptune']\n",
    "print(\"Hay\",len(planets),\"planetas en el sistema solar\")\n",
    "\n",
    "# Agregamos a plutón, mostramos el numero de planetas y el último elemento\n",
    "planets.append('Pluto')\n",
    "print(len(planets),\"Ultimo elemento de la lista:\",planets[-1])"
   ]
  },
  {
   "cell_type": "markdown",
   "metadata": {},
   "source": [
    "# Ejercicio 2: Trabajando con datos de una lista"
   ]
  },
  {
   "cell_type": "code",
   "execution_count": 2,
   "metadata": {},
   "outputs": [],
   "source": [
    "# Lista de planetas\n",
    "planets = ['Mercurio', 'Venus', 'Tierra', 'Marte', 'Jupiter', 'Saturno', 'Urano', 'Neptuno']\n",
    "nombre = input(\"Insertar el nombre del planeta: \").title()\n",
    "# Busca el planeta en la lista\n",
    "planet_index = planets.index(nombre)\n",
    "\n",
    "print(\"Planetas más cercanos al sol: \",planets[:planet_index],\"\\nPlanetas más lejanos al sol: \",planets[planet_index+1:])\n"
   ]
  }
 ],
 "metadata": {
  "interpreter": {
   "hash": "40eea49dd26fc9c81418bd437f4fe6cdd56add00dfaba1c6354d20707844a2a5"
  },
  "kernelspec": {
   "display_name": "Python 3.9.7 ('desarrollo4')",
   "language": "python",
   "name": "python3"
  },
  "language_info": {
   "codemirror_mode": {
    "name": "ipython",
    "version": 3
   },
   "file_extension": ".py",
   "mimetype": "text/x-python",
   "name": "python",
   "nbconvert_exporter": "python",
   "pygments_lexer": "ipython3",
   "version": "3.10.2"
  },
  "orig_nbformat": 4
 },
 "nbformat": 4,
 "nbformat_minor": 2
}
