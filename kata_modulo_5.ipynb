{
 "cells": [
  {
   "cell_type": "markdown",
   "metadata": {},
   "source": [
    "# Ejercicio1 - Utilizar operadores aritméticos"
   ]
  },
  {
   "cell_type": "code",
   "execution_count": 8,
   "metadata": {},
   "outputs": [
    {
     "name": "stdout",
     "output_type": "stream",
     "text": [
      "628949330 km\n",
      "390577534 mi\n"
     ]
    }
   ],
   "source": [
    "dis_tierra = 149597870\n",
    "dis_jupiter = 778547200\n",
    "\n",
    "#Calculamos e imprimimos las distancias entre los dos planetas\n",
    "print(abs(dis_tierra-dis_jupiter),'km.')\n",
    "\n",
    "#Ahora lo calculamos en millas\n",
    "dis_tierra *= 0.621\n",
    "dis_jupiter *= 0.621\n",
    "print(abs(round(dis_tierra)-round(dis_jupiter)),'mi.')"
   ]
  },
  {
   "cell_type": "markdown",
   "metadata": {},
   "source": [
    "# Ejercicio 2: convierte cadenas en números y usa valores absolutos"
   ]
  },
  {
   "cell_type": "code",
   "execution_count": 1,
   "metadata": {},
   "outputs": [],
   "source": [
    "millas = 0.621\n",
    "planeta_1 = float(input(\"Distancia del sol para el primer planeta (km): \")) * millas\n",
    "planeta_2 = float(input(\"Distancia del sol para el segundo planeta (km): \")) * millas\n",
    "print('Distancia entre los planetas (millas): ',abs(round(planeta_1 - planeta_2)),'mi')"
   ]
  }
 ],
 "metadata": {
  "interpreter": {
   "hash": "af8cfec603fca3a3ed99f9ea9e8fc3de118148c54b4fd9a88629e4b040395b77"
  },
  "kernelspec": {
   "display_name": "Python 3.10.2 64-bit",
   "language": "python",
   "name": "python3"
  },
  "language_info": {
   "codemirror_mode": {
    "name": "ipython",
    "version": 3
   },
   "file_extension": ".py",
   "mimetype": "text/x-python",
   "name": "python",
   "nbconvert_exporter": "python",
   "pygments_lexer": "ipython3",
   "version": "3.10.2"
  },
  "orig_nbformat": 4
 },
 "nbformat": 4,
 "nbformat_minor": 2
}
